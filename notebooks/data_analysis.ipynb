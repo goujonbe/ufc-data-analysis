{
 "cells": [
  {
   "cell_type": "markdown",
   "metadata": {},
   "source": [
    "## Get insights from data\n",
    "\n",
    "> The aim is to get interesting insights from the dataset we have. For example:\n",
    "1. Which fighter has the most wins?\n",
    "2. Which fighter has the biggest number of fights?\n",
    "3. What is the average number of fights before retiring?\n",
    "\n",
    "> Sounds promising!"
   ]
  },
  {
   "cell_type": "code",
   "execution_count": 3,
   "metadata": {},
   "outputs": [],
   "source": [
    "# library to easily deal with data\n",
    "import pandas as pd\n",
    "import numpy as np\n",
    "\n",
    "# library required for visualisation\n",
    "import matplotlib.pyplot as plt\n",
    "\n",
    "# to count number of occurences in a list\n",
    "from collections import Counter\n",
    "\n",
    "# to get data from API\n",
    "import requests\n",
    "\n",
    "%matplotlib inline\n",
    "\n",
    "# set up the size and the font size of the charts\n",
    "plt.rcParams['figure.figsize'] = [30, 15]\n",
    "plt.rcParams['font.size'] = 22"
   ]
  },
  {
   "cell_type": "code",
   "execution_count": 2,
   "metadata": {},
   "outputs": [
    {
     "data": {
      "text/html": [
       "<div>\n",
       "<style scoped>\n",
       "    .dataframe tbody tr th:only-of-type {\n",
       "        vertical-align: middle;\n",
       "    }\n",
       "\n",
       "    .dataframe tbody tr th {\n",
       "        vertical-align: top;\n",
       "    }\n",
       "\n",
       "    .dataframe thead th {\n",
       "        text-align: right;\n",
       "    }\n",
       "</style>\n",
       "<table border=\"1\" class=\"dataframe\">\n",
       "  <thead>\n",
       "    <tr style=\"text-align: right;\">\n",
       "      <th></th>\n",
       "      <th>first_name</th>\n",
       "      <th>last_name</th>\n",
       "      <th>wins</th>\n",
       "      <th>losses</th>\n",
       "      <th>draws</th>\n",
       "      <th>weight_class</th>\n",
       "      <th>title_holder</th>\n",
       "      <th>fighter_status</th>\n",
       "    </tr>\n",
       "  </thead>\n",
       "  <tbody>\n",
       "    <tr>\n",
       "      <th>0</th>\n",
       "      <td>Cris</td>\n",
       "      <td>Cyborg</td>\n",
       "      <td>20.0</td>\n",
       "      <td>1.0</td>\n",
       "      <td>0.0</td>\n",
       "      <td>Women_Featherweight</td>\n",
       "      <td>True</td>\n",
       "      <td>Active</td>\n",
       "    </tr>\n",
       "    <tr>\n",
       "      <th>1</th>\n",
       "      <td>Henry</td>\n",
       "      <td>Cejudo</td>\n",
       "      <td>13.0</td>\n",
       "      <td>2.0</td>\n",
       "      <td>0.0</td>\n",
       "      <td>Flyweight</td>\n",
       "      <td>True</td>\n",
       "      <td>Active</td>\n",
       "    </tr>\n",
       "  </tbody>\n",
       "</table>\n",
       "</div>"
      ],
      "text/plain": [
       "  first_name last_name  wins  losses  draws         weight_class  \\\n",
       "0       Cris    Cyborg  20.0     1.0    0.0  Women_Featherweight   \n",
       "1      Henry    Cejudo  13.0     2.0    0.0            Flyweight   \n",
       "\n",
       "   title_holder fighter_status  \n",
       "0          True         Active  \n",
       "1          True         Active  "
      ]
     },
     "execution_count": 2,
     "metadata": {},
     "output_type": "execute_result"
    }
   ],
   "source": [
    "fighters_from_api = requests.get('http://ufc-data-api.ufc.com/api/v3/us/fighters')\n",
    "df_fighters = pd.DataFrame(fighters_from_api.json(), \n",
    "                            columns=['first_name',\n",
    "                                   'last_name',\n",
    "                                    'wins', \n",
    "                                   'losses', \n",
    "                                   'draws', \n",
    "                                   'weight_class', \n",
    "                                   'title_holder', \n",
    "                                   'fighter_status'])\n",
    "df_fighters.head(2)"
   ]
  },
  {
   "cell_type": "code",
   "execution_count": 3,
   "metadata": {},
   "outputs": [
    {
     "data": {
      "text/plain": [
       "first_name         object\n",
       "last_name          object\n",
       "wins              float64\n",
       "losses            float64\n",
       "draws             float64\n",
       "weight_class       object\n",
       "title_holder         bool\n",
       "fighter_status     object\n",
       "dtype: object"
      ]
     },
     "execution_count": 3,
     "metadata": {},
     "output_type": "execute_result"
    }
   ],
   "source": [
    "df_fighters.dtypes"
   ]
  },
  {
   "cell_type": "markdown",
   "metadata": {},
   "source": [
    "> We see that the number of wins, losses and draws seems to be a decimal value, which does not make sense because you can't get the half of a victory. Let's fix that quickly. By default, NaN values are of type float, this is why I replace all these missing values by 0."
   ]
  },
  {
   "cell_type": "code",
   "execution_count": 4,
   "metadata": {},
   "outputs": [
    {
     "data": {
      "text/plain": [
       "first_name        object\n",
       "last_name         object\n",
       "wins               int64\n",
       "losses             int64\n",
       "draws              int64\n",
       "weight_class      object\n",
       "title_holder        bool\n",
       "fighter_status    object\n",
       "dtype: object"
      ]
     },
     "execution_count": 4,
     "metadata": {},
     "output_type": "execute_result"
    }
   ],
   "source": [
    "df_fighters[['wins', 'losses', 'draws']] = df_fighters[['wins', 'losses', 'draws']].fillna(0).astype(int)\n",
    "df_fighters.dtypes"
   ]
  },
  {
   "cell_type": "code",
   "execution_count": 5,
   "metadata": {},
   "outputs": [
    {
     "data": {
      "text/plain": [
       "(882, 8)"
      ]
     },
     "execution_count": 5,
     "metadata": {},
     "output_type": "execute_result"
    }
   ],
   "source": [
    "df_fighters.shape"
   ]
  },
  {
   "cell_type": "markdown",
   "metadata": {},
   "source": [
    "### First impression\n",
    "> We have a large dataset of fighters (882 fighters) and at first glance it seems like we can answer the questions we asked earlier with the information we have.\n",
    "Indeed we know the number of wins, losses and draws for each fighter. We know whether the fighter is active or not and we even have data about the weight class and if a fighter is currently the champion or not."
   ]
  },
  {
   "cell_type": "markdown",
   "metadata": {},
   "source": [
    "### Answering the first question: which fighter has the most wins?"
   ]
  },
  {
   "cell_type": "code",
   "execution_count": 6,
   "metadata": {},
   "outputs": [
    {
     "data": {
      "text/html": [
       "<div>\n",
       "<style scoped>\n",
       "    .dataframe tbody tr th:only-of-type {\n",
       "        vertical-align: middle;\n",
       "    }\n",
       "\n",
       "    .dataframe tbody tr th {\n",
       "        vertical-align: top;\n",
       "    }\n",
       "\n",
       "    .dataframe thead th {\n",
       "        text-align: right;\n",
       "    }\n",
       "</style>\n",
       "<table border=\"1\" class=\"dataframe\">\n",
       "  <thead>\n",
       "    <tr style=\"text-align: right;\">\n",
       "      <th></th>\n",
       "      <th>first_name</th>\n",
       "      <th>last_name</th>\n",
       "      <th>wins</th>\n",
       "      <th>losses</th>\n",
       "      <th>draws</th>\n",
       "      <th>weight_class</th>\n",
       "      <th>title_holder</th>\n",
       "      <th>fighter_status</th>\n",
       "    </tr>\n",
       "  </thead>\n",
       "  <tbody>\n",
       "    <tr>\n",
       "      <th>342</th>\n",
       "      <td>Aleksei</td>\n",
       "      <td>Oleinik</td>\n",
       "      <td>57</td>\n",
       "      <td>11</td>\n",
       "      <td>1</td>\n",
       "      <td>Heavyweight</td>\n",
       "      <td>False</td>\n",
       "      <td>Active</td>\n",
       "    </tr>\n",
       "    <tr>\n",
       "      <th>25</th>\n",
       "      <td>Matt</td>\n",
       "      <td>Hughes</td>\n",
       "      <td>46</td>\n",
       "      <td>9</td>\n",
       "      <td>0</td>\n",
       "      <td>Welterweight</td>\n",
       "      <td>False</td>\n",
       "      <td>NotFighting</td>\n",
       "    </tr>\n",
       "    <tr>\n",
       "      <th>34</th>\n",
       "      <td>Alistair</td>\n",
       "      <td>Overeem</td>\n",
       "      <td>43</td>\n",
       "      <td>17</td>\n",
       "      <td>0</td>\n",
       "      <td>Heavyweight</td>\n",
       "      <td>False</td>\n",
       "      <td>Active</td>\n",
       "    </tr>\n",
       "    <tr>\n",
       "      <th>360</th>\n",
       "      <td>Gegard</td>\n",
       "      <td>Mousasi</td>\n",
       "      <td>42</td>\n",
       "      <td>6</td>\n",
       "      <td>2</td>\n",
       "      <td>Middleweight</td>\n",
       "      <td>False</td>\n",
       "      <td>NotFighting</td>\n",
       "    </tr>\n",
       "    <tr>\n",
       "      <th>839</th>\n",
       "      <td>Yves</td>\n",
       "      <td>Edwards</td>\n",
       "      <td>42</td>\n",
       "      <td>22</td>\n",
       "      <td>1</td>\n",
       "      <td>Lightweight</td>\n",
       "      <td>False</td>\n",
       "      <td>NotFighting</td>\n",
       "    </tr>\n",
       "    <tr>\n",
       "      <th>575</th>\n",
       "      <td>Gleison</td>\n",
       "      <td>Tibau</td>\n",
       "      <td>40</td>\n",
       "      <td>14</td>\n",
       "      <td>0</td>\n",
       "      <td>Lightweight</td>\n",
       "      <td>False</td>\n",
       "      <td>Active</td>\n",
       "    </tr>\n",
       "    <tr>\n",
       "      <th>474</th>\n",
       "      <td>Sean</td>\n",
       "      <td>Sherk</td>\n",
       "      <td>38</td>\n",
       "      <td>4</td>\n",
       "      <td>1</td>\n",
       "      <td>Lightweight</td>\n",
       "      <td>False</td>\n",
       "      <td>NotFighting</td>\n",
       "    </tr>\n",
       "    <tr>\n",
       "      <th>858</th>\n",
       "      <td>Renan</td>\n",
       "      <td>Barao</td>\n",
       "      <td>36</td>\n",
       "      <td>7</td>\n",
       "      <td>0</td>\n",
       "      <td>Bantamweight</td>\n",
       "      <td>False</td>\n",
       "      <td>Active</td>\n",
       "    </tr>\n",
       "    <tr>\n",
       "      <th>695</th>\n",
       "      <td>Ben</td>\n",
       "      <td>Rothwell</td>\n",
       "      <td>36</td>\n",
       "      <td>10</td>\n",
       "      <td>0</td>\n",
       "      <td>Heavyweight</td>\n",
       "      <td>False</td>\n",
       "      <td>Active</td>\n",
       "    </tr>\n",
       "    <tr>\n",
       "      <th>809</th>\n",
       "      <td>Takanori</td>\n",
       "      <td>Gomi</td>\n",
       "      <td>35</td>\n",
       "      <td>14</td>\n",
       "      <td>0</td>\n",
       "      <td>Lightweight</td>\n",
       "      <td>False</td>\n",
       "      <td>Active</td>\n",
       "    </tr>\n",
       "  </tbody>\n",
       "</table>\n",
       "</div>"
      ],
      "text/plain": [
       "    first_name last_name  wins  losses  draws  weight_class  title_holder  \\\n",
       "342    Aleksei   Oleinik    57      11      1   Heavyweight         False   \n",
       "25        Matt    Hughes    46       9      0  Welterweight         False   \n",
       "34    Alistair   Overeem    43      17      0   Heavyweight         False   \n",
       "360     Gegard   Mousasi    42       6      2  Middleweight         False   \n",
       "839       Yves   Edwards    42      22      1   Lightweight         False   \n",
       "575    Gleison     Tibau    40      14      0   Lightweight         False   \n",
       "474       Sean     Sherk    38       4      1   Lightweight         False   \n",
       "858      Renan     Barao    36       7      0  Bantamweight         False   \n",
       "695        Ben  Rothwell    36      10      0   Heavyweight         False   \n",
       "809   Takanori      Gomi    35      14      0   Lightweight         False   \n",
       "\n",
       "    fighter_status  \n",
       "342         Active  \n",
       "25     NotFighting  \n",
       "34          Active  \n",
       "360    NotFighting  \n",
       "839    NotFighting  \n",
       "575         Active  \n",
       "474    NotFighting  \n",
       "858         Active  \n",
       "695         Active  \n",
       "809         Active  "
      ]
     },
     "execution_count": 6,
     "metadata": {},
     "output_type": "execute_result"
    }
   ],
   "source": [
    "df_fighters.sort_values(by=['wins'], ascending=False).head(10)"
   ]
  },
  {
   "cell_type": "markdown",
   "metadata": {},
   "source": [
    "> Well, we already have our top 10 fighters with the most wins in the UFC history. And we can see that the first one is still fighting!\n",
    "\n",
    "> You can see how easy it is to get answers from data thanks to pandas. It only took one line of code! The `sort_values` method from pandas library was really helpful. More details [here](https://pandas.pydata.org/pandas-docs/stable/generated/pandas.DataFrame.sort_values.html).\n",
    "\n",
    "> That being saig, for those of you who know UFC fighters, I hear you yelling \"You're wrong! Michael Bisping, Donald Cerrone and Georges Saint Pierre are the ones that have the most wins in the UFC\". And you're right but MMA records in this data set contain fights in other organisations than UFC (for example strikeforce). So to be more accurate, we answered the question: who has the most wins in his/her MMA career? "
   ]
  },
  {
   "cell_type": "markdown",
   "metadata": {},
   "source": [
    "### Answering the second question: which fighter has the biggest number of fights?"
   ]
  },
  {
   "cell_type": "code",
   "execution_count": 7,
   "metadata": {},
   "outputs": [],
   "source": [
    "# first of all, we create a new column containing the total number of fights by adding the number of wins, \n",
    "# the number of losses and the number of draws\n",
    "df_fighters['number_of_fights'] = df_fighters['wins'] + df_fighters['losses'] + df_fighters['draws']"
   ]
  },
  {
   "cell_type": "code",
   "execution_count": 8,
   "metadata": {},
   "outputs": [
    {
     "data": {
      "text/plain": [
       "first_name          0\n",
       "last_name           0\n",
       "wins                0\n",
       "losses              0\n",
       "draws               0\n",
       "weight_class        0\n",
       "title_holder        0\n",
       "fighter_status      0\n",
       "number_of_fights    0\n",
       "dtype: int64"
      ]
     },
     "execution_count": 8,
     "metadata": {},
     "output_type": "execute_result"
    }
   ],
   "source": [
    "# there might be missing values, let's figure that out\n",
    "df_fighters[df_fighters['number_of_fights'].isnull()].count()"
   ]
  },
  {
   "cell_type": "code",
   "execution_count": 9,
   "metadata": {},
   "outputs": [
    {
     "data": {
      "text/html": [
       "<div>\n",
       "<style scoped>\n",
       "    .dataframe tbody tr th:only-of-type {\n",
       "        vertical-align: middle;\n",
       "    }\n",
       "\n",
       "    .dataframe tbody tr th {\n",
       "        vertical-align: top;\n",
       "    }\n",
       "\n",
       "    .dataframe thead th {\n",
       "        text-align: right;\n",
       "    }\n",
       "</style>\n",
       "<table border=\"1\" class=\"dataframe\">\n",
       "  <thead>\n",
       "    <tr style=\"text-align: right;\">\n",
       "      <th></th>\n",
       "      <th>first_name</th>\n",
       "      <th>last_name</th>\n",
       "      <th>wins</th>\n",
       "      <th>losses</th>\n",
       "      <th>draws</th>\n",
       "      <th>weight_class</th>\n",
       "      <th>title_holder</th>\n",
       "      <th>fighter_status</th>\n",
       "      <th>number_of_fights</th>\n",
       "    </tr>\n",
       "  </thead>\n",
       "  <tbody>\n",
       "    <tr>\n",
       "      <th>342</th>\n",
       "      <td>Aleksei</td>\n",
       "      <td>Oleinik</td>\n",
       "      <td>57</td>\n",
       "      <td>11</td>\n",
       "      <td>1</td>\n",
       "      <td>Heavyweight</td>\n",
       "      <td>False</td>\n",
       "      <td>Active</td>\n",
       "      <td>69</td>\n",
       "    </tr>\n",
       "    <tr>\n",
       "      <th>839</th>\n",
       "      <td>Yves</td>\n",
       "      <td>Edwards</td>\n",
       "      <td>42</td>\n",
       "      <td>22</td>\n",
       "      <td>1</td>\n",
       "      <td>Lightweight</td>\n",
       "      <td>False</td>\n",
       "      <td>NotFighting</td>\n",
       "      <td>65</td>\n",
       "    </tr>\n",
       "    <tr>\n",
       "      <th>34</th>\n",
       "      <td>Alistair</td>\n",
       "      <td>Overeem</td>\n",
       "      <td>43</td>\n",
       "      <td>17</td>\n",
       "      <td>0</td>\n",
       "      <td>Heavyweight</td>\n",
       "      <td>False</td>\n",
       "      <td>Active</td>\n",
       "      <td>60</td>\n",
       "    </tr>\n",
       "    <tr>\n",
       "      <th>25</th>\n",
       "      <td>Matt</td>\n",
       "      <td>Hughes</td>\n",
       "      <td>46</td>\n",
       "      <td>9</td>\n",
       "      <td>0</td>\n",
       "      <td>Welterweight</td>\n",
       "      <td>False</td>\n",
       "      <td>NotFighting</td>\n",
       "      <td>55</td>\n",
       "    </tr>\n",
       "    <tr>\n",
       "      <th>575</th>\n",
       "      <td>Gleison</td>\n",
       "      <td>Tibau</td>\n",
       "      <td>40</td>\n",
       "      <td>14</td>\n",
       "      <td>0</td>\n",
       "      <td>Lightweight</td>\n",
       "      <td>False</td>\n",
       "      <td>Active</td>\n",
       "      <td>54</td>\n",
       "    </tr>\n",
       "    <tr>\n",
       "      <th>360</th>\n",
       "      <td>Gegard</td>\n",
       "      <td>Mousasi</td>\n",
       "      <td>42</td>\n",
       "      <td>6</td>\n",
       "      <td>2</td>\n",
       "      <td>Middleweight</td>\n",
       "      <td>False</td>\n",
       "      <td>NotFighting</td>\n",
       "      <td>50</td>\n",
       "    </tr>\n",
       "    <tr>\n",
       "      <th>707</th>\n",
       "      <td>Clay</td>\n",
       "      <td>Guida</td>\n",
       "      <td>34</td>\n",
       "      <td>15</td>\n",
       "      <td>0</td>\n",
       "      <td>Lightweight</td>\n",
       "      <td>False</td>\n",
       "      <td>Active</td>\n",
       "      <td>49</td>\n",
       "    </tr>\n",
       "    <tr>\n",
       "      <th>809</th>\n",
       "      <td>Takanori</td>\n",
       "      <td>Gomi</td>\n",
       "      <td>35</td>\n",
       "      <td>14</td>\n",
       "      <td>0</td>\n",
       "      <td>Lightweight</td>\n",
       "      <td>False</td>\n",
       "      <td>Active</td>\n",
       "      <td>49</td>\n",
       "    </tr>\n",
       "    <tr>\n",
       "      <th>388</th>\n",
       "      <td>Wanderlei</td>\n",
       "      <td>Silva</td>\n",
       "      <td>35</td>\n",
       "      <td>12</td>\n",
       "      <td>1</td>\n",
       "      <td>Light_Heavyweight</td>\n",
       "      <td>False</td>\n",
       "      <td>NotFighting</td>\n",
       "      <td>48</td>\n",
       "    </tr>\n",
       "    <tr>\n",
       "      <th>218</th>\n",
       "      <td>Dan</td>\n",
       "      <td>Henderson</td>\n",
       "      <td>32</td>\n",
       "      <td>15</td>\n",
       "      <td>0</td>\n",
       "      <td>Middleweight</td>\n",
       "      <td>False</td>\n",
       "      <td>NotFighting</td>\n",
       "      <td>47</td>\n",
       "    </tr>\n",
       "  </tbody>\n",
       "</table>\n",
       "</div>"
      ],
      "text/plain": [
       "    first_name  last_name  wins  losses  draws       weight_class  \\\n",
       "342    Aleksei    Oleinik    57      11      1        Heavyweight   \n",
       "839       Yves    Edwards    42      22      1        Lightweight   \n",
       "34    Alistair    Overeem    43      17      0        Heavyweight   \n",
       "25        Matt     Hughes    46       9      0       Welterweight   \n",
       "575    Gleison      Tibau    40      14      0        Lightweight   \n",
       "360     Gegard    Mousasi    42       6      2       Middleweight   \n",
       "707       Clay      Guida    34      15      0        Lightweight   \n",
       "809   Takanori       Gomi    35      14      0        Lightweight   \n",
       "388  Wanderlei      Silva    35      12      1  Light_Heavyweight   \n",
       "218        Dan  Henderson    32      15      0       Middleweight   \n",
       "\n",
       "     title_holder fighter_status  number_of_fights  \n",
       "342         False         Active                69  \n",
       "839         False    NotFighting                65  \n",
       "34          False         Active                60  \n",
       "25          False    NotFighting                55  \n",
       "575         False         Active                54  \n",
       "360         False    NotFighting                50  \n",
       "707         False         Active                49  \n",
       "809         False         Active                49  \n",
       "388         False    NotFighting                48  \n",
       "218         False    NotFighting                47  "
      ]
     },
     "execution_count": 9,
     "metadata": {},
     "output_type": "execute_result"
    }
   ],
   "source": [
    "# and there is not since we replaced NaN values with 0 instead. Then, we sort the values as we previously did for the first question\n",
    "df_fighters.sort_values(by=['number_of_fights'], ascending=False).head(10)"
   ]
  },
  {
   "cell_type": "markdown",
   "metadata": {},
   "source": [
    "> And here is the result! It seems like the number of fights is correalted with the number of wins. That's normal!\n",
    "\n",
    "> And unfortunately for the UFC fans, this is not the biggest number of fights in the UFC but the biggest number of professional MMA bouts.\n",
    "\n",
    "> For those of you who are curious, check the real answer [here](https://en.wikipedia.org/wiki/List_of_UFC_records#Most_bouts)."
   ]
  },
  {
   "cell_type": "markdown",
   "metadata": {},
   "source": [
    "### Answering the third question: what is the average number of fights before retiring?\n",
    "\n",
    "> MMA is extremely violent and fighter bodies are hurt throughout their careers. So I found interesting to know how many fights of your favorite fighter you can hope to see before retirement."
   ]
  },
  {
   "cell_type": "code",
   "execution_count": 10,
   "metadata": {},
   "outputs": [],
   "source": [
    "# first, split the data set between retired and active fighters\n",
    "df_fighters_retired = df_fighters[df_fighters['fighter_status'] == 'NotFighting']\n",
    "df_fighters_active = df_fighters[df_fighters['fighter_status'] == 'Active']"
   ]
  },
  {
   "cell_type": "code",
   "execution_count": 11,
   "metadata": {},
   "outputs": [],
   "source": [
    "# then create a dictionary with the number of fighters that have fought n times\n",
    "number_fighters_with_such_number_of_fights = Counter(df_fighters_retired['number_of_fights'])"
   ]
  },
  {
   "cell_type": "code",
   "execution_count": 12,
   "metadata": {},
   "outputs": [
    {
     "data": {
      "text/plain": [
       "Text(0, 0.5, 'Number of fighters')"
      ]
     },
     "execution_count": 12,
     "metadata": {},
     "output_type": "execute_result"
    },
    {
     "data": {
      "image/png": "[encoded data removed]",
      "text/plain": [
       "<Figure size 432x288 with 1 Axes>"
      ]
     },
     "metadata": {
      "needs_background": "light"
     },
     "output_type": "display_data"
    }
   ],
   "source": [
    "# plot the results\n",
    "plt.bar(list(number_fighters_with_such_number_of_fights.keys()), \n",
    "        list(number_fighters_with_such_number_of_fights.values()), color='b')\n",
    "plt.title('Distribution of the number of fights per fighter')\n",
    "plt.xlabel('Number of figths')\n",
    "plt.ylabel('Number of fighters')"
   ]
  },
  {
   "cell_type": "markdown",
   "metadata": {},
   "source": [
    "#### What about this plot?\n",
    "\n",
    "> We can conclude there is no clear distribution. There are lots of retired fighters that have between 14 and less than 30 fights. But the fact is that it depends on the age they fought for the first time, the weight class they belong to, the results they got and so on ...\n",
    "\n",
    "> But what is the number of fights for an average fighter?"
   ]
  },
  {
   "cell_type": "code",
   "execution_count": 13,
   "metadata": {},
   "outputs": [
    {
     "name": "stdout",
     "output_type": "stream",
     "text": [
      "An average fighter fights 26 times before retiring\n"
     ]
    }
   ],
   "source": [
    "print('An average fighter fights {} times before retiring'.format(int(df_fighters_retired['number_of_fights'].mean())))"
   ]
  },
  {
   "cell_type": "code",
   "execution_count": 14,
   "metadata": {},
   "outputs": [
    {
     "name": "stdout",
     "output_type": "stream",
     "text": [
      "Standard deviation: 12.699823118704323\n"
     ]
    }
   ],
   "source": [
    "print('Standard deviation: {}'.format(df_fighters_retired['number_of_fights'].std()))"
   ]
  },
  {
   "cell_type": "markdown",
   "metadata": {},
   "source": [
    "> So you have to take this mean carefully. Indeed, the standard deviation is very large, so you are not able to accurately predict the number of fights before retirement."
   ]
  },
  {
   "cell_type": "markdown",
   "metadata": {},
   "source": [
    "### Events data set\n",
    "\n",
    "> We still have a lot to explore! We have data on events from the first UFC event to the last one.\n",
    "\n",
    "> The UFC seems to organize the events in the U.S. and not so much outside the U.S. Is that true?\n",
    "\n",
    "> Some fans find there are too much events. A lot more than before. We'll check that too."
   ]
  },
  {
   "cell_type": "code",
   "execution_count": 4,
   "metadata": {},
   "outputs": [
    {
     "data": {
      "text/plain": [
       "base_title           object\n",
       "subtitle             object\n",
       "title_tag_line       object\n",
       "short_description    object\n",
       "event_date           object\n",
       "event_status         object\n",
       "location             object\n",
       "arena                object\n",
       "dtype: object"
      ]
     },
     "execution_count": 4,
     "metadata": {},
     "output_type": "execute_result"
    }
   ],
   "source": [
    "events_from_api = requests.get('http://ufc-data-api.ufc.com/api/v3/us/events')\n",
    "df_events = pd.DataFrame(events_from_api.json(), columns=['base_title',\n",
    "                   'subtitle',\n",
    "                   'title_tag_line', \n",
    "                   'short_description', \n",
    "                   'event_date', \n",
    "                   'event_status', \n",
    "                   'location', \n",
    "                   'arena'\n",
    "                  ])\n",
    "df_events.dtypes"
   ]
  },
  {
   "cell_type": "code",
   "execution_count": 5,
   "metadata": {},
   "outputs": [],
   "source": [
    "df_events['event_date'] = pd.to_datetime(df_events['event_date'])"
   ]
  },
  {
   "cell_type": "code",
   "execution_count": 6,
   "metadata": {},
   "outputs": [
    {
     "data": {
      "text/plain": [
       "base_title                   object\n",
       "subtitle                     object\n",
       "title_tag_line               object\n",
       "short_description            object\n",
       "event_date           datetime64[ns]\n",
       "event_status                 object\n",
       "location                     object\n",
       "arena                        object\n",
       "dtype: object"
      ]
     },
     "execution_count": 6,
     "metadata": {},
     "output_type": "execute_result"
    }
   ],
   "source": [
    "df_events.dtypes"
   ]
  },
  {
   "cell_type": "code",
   "execution_count": 7,
   "metadata": {},
   "outputs": [
    {
     "data": {
      "text/html": [
       "<div>\n",
       "<style scoped>\n",
       "    .dataframe tbody tr th:only-of-type {\n",
       "        vertical-align: middle;\n",
       "    }\n",
       "\n",
       "    .dataframe tbody tr th {\n",
       "        vertical-align: top;\n",
       "    }\n",
       "\n",
       "    .dataframe thead th {\n",
       "        text-align: right;\n",
       "    }\n",
       "</style>\n",
       "<table border=\"1\" class=\"dataframe\">\n",
       "  <thead>\n",
       "    <tr style=\"text-align: right;\">\n",
       "      <th></th>\n",
       "      <th>base_title</th>\n",
       "      <th>subtitle</th>\n",
       "      <th>title_tag_line</th>\n",
       "      <th>short_description</th>\n",
       "      <th>event_date</th>\n",
       "      <th>event_status</th>\n",
       "      <th>location</th>\n",
       "      <th>arena</th>\n",
       "    </tr>\n",
       "  </thead>\n",
       "  <tbody>\n",
       "    <tr>\n",
       "      <th>0</th>\n",
       "      <td>UFC 232</td>\n",
       "      <td>Live on Pay-Per-View</td>\n",
       "      <td>Jones vs Gustafsson 2</td>\n",
       "      <td></td>\n",
       "      <td>2018-12-29</td>\n",
       "      <td>FINALIZED</td>\n",
       "      <td>Las Vegas, Nevada</td>\n",
       "      <td>T-Mobile Arena</td>\n",
       "    </tr>\n",
       "    <tr>\n",
       "      <th>1</th>\n",
       "      <td>UFC Fight Night</td>\n",
       "      <td>Live on FOX</td>\n",
       "      <td>Lee vs Iaquinta</td>\n",
       "      <td></td>\n",
       "      <td>2018-12-15</td>\n",
       "      <td>FINALIZED</td>\n",
       "      <td>Milwaukee, Wisconsin</td>\n",
       "      <td>Fiserv Forum</td>\n",
       "    </tr>\n",
       "    <tr>\n",
       "      <th>2</th>\n",
       "      <td>UFC 231</td>\n",
       "      <td>Live on Pay-Per-View</td>\n",
       "      <td>Holloway vs Ortega</td>\n",
       "      <td></td>\n",
       "      <td>2018-12-08</td>\n",
       "      <td>FINALIZED</td>\n",
       "      <td>Toronto, Ontario</td>\n",
       "      <td>Scotiabank Arena</td>\n",
       "    </tr>\n",
       "    <tr>\n",
       "      <th>3</th>\n",
       "      <td>UFC Fight Night</td>\n",
       "      <td>Live on FS1</td>\n",
       "      <td>Dos Santos vs Tuivasa</td>\n",
       "      <td></td>\n",
       "      <td>2018-12-01</td>\n",
       "      <td>FINALIZED</td>\n",
       "      <td></td>\n",
       "      <td>Adelaide Entertainment Centre</td>\n",
       "    </tr>\n",
       "    <tr>\n",
       "      <th>4</th>\n",
       "      <td>The Ultimate Fighter Finale</td>\n",
       "      <td>Live on FS1</td>\n",
       "      <td>Dos Anjos vs Usman</td>\n",
       "      <td></td>\n",
       "      <td>2018-11-30</td>\n",
       "      <td>FINALIZED</td>\n",
       "      <td>Las Vegas, Nevada</td>\n",
       "      <td>The Pearl</td>\n",
       "    </tr>\n",
       "  </tbody>\n",
       "</table>\n",
       "</div>"
      ],
      "text/plain": [
       "                    base_title              subtitle         title_tag_line  \\\n",
       "0                      UFC 232  Live on Pay-Per-View  Jones vs Gustafsson 2   \n",
       "1              UFC Fight Night           Live on FOX        Lee vs Iaquinta   \n",
       "2                      UFC 231  Live on Pay-Per-View     Holloway vs Ortega   \n",
       "3              UFC Fight Night           Live on FS1  Dos Santos vs Tuivasa   \n",
       "4  The Ultimate Fighter Finale           Live on FS1     Dos Anjos vs Usman   \n",
       "\n",
       "  short_description event_date event_status              location  \\\n",
       "0                   2018-12-29    FINALIZED     Las Vegas, Nevada   \n",
       "1                   2018-12-15    FINALIZED  Milwaukee, Wisconsin   \n",
       "2                   2018-12-08    FINALIZED      Toronto, Ontario   \n",
       "3                   2018-12-01    FINALIZED                         \n",
       "4                   2018-11-30    FINALIZED     Las Vegas, Nevada   \n",
       "\n",
       "                           arena  \n",
       "0                 T-Mobile Arena  \n",
       "1                   Fiserv Forum  \n",
       "2               Scotiabank Arena  \n",
       "3  Adelaide Entertainment Centre  \n",
       "4                      The Pearl  "
      ]
     },
     "execution_count": 7,
     "metadata": {},
     "output_type": "execute_result"
    }
   ],
   "source": [
    "df_events.head()"
   ]
  },
  {
   "cell_type": "markdown",
   "metadata": {},
   "source": [
    "### Number of events\n",
    "\n",
    "> I think the number of events increased since the early days of the UFC because there are more fighters and there are fans around the world. First, it was only in the U.S. So nowadays, if the UFC wants to organize events for all fans, the most famous MMA organization in the world has to organize fights on each continent. Therefore the number of fights significantely increases."
   ]
  },
  {
   "cell_type": "code",
   "execution_count": 18,
   "metadata": {},
   "outputs": [],
   "source": [
    "# get the number of events per year\n",
    "number_events_per_year = df_events['base_title'].groupby(df_events['event_date'].dt.year).count()"
   ]
  },
  {
   "cell_type": "code",
   "execution_count": 28,
   "metadata": {},
   "outputs": [
    {
     "data": {
      "text/plain": [
       "<matplotlib.collections.PathCollection at 0x1191f79b0>"
      ]
     },
     "execution_count": 28,
     "metadata": {},
     "output_type": "execute_result"
    },
    {
     "data": {
      "image/png": "[encoded data removed]",
      "text/plain": [
       "<Figure size 1080x504 with 1 Axes>"
      ]
     },
     "metadata": {
      "needs_background": "light"
     },
     "output_type": "display_data"
    }
   ],
   "source": [
    "plt.figure(figsize=(15,7))\n",
    "plt.ylabel('Number of events')\n",
    "plt.xlabel('Year')\n",
    "plt.title('Number of events per year')\n",
    "plt.scatter(number_events_per_year.index, number_events_per_year.values, marker='+')"
   ]
  },
  {
   "cell_type": "markdown",
   "metadata": {},
   "source": [
    "### Location"
   ]
  },
  {
   "cell_type": "code",
   "execution_count": 19,
   "metadata": {},
   "outputs": [],
   "source": [
    "locations = df_events['location'].dropna()"
   ]
  },
  {
   "cell_type": "code",
   "execution_count": 20,
   "metadata": {},
   "outputs": [],
   "source": [
    "# let's create a small function that could be useful later\n",
    "def get_distribution(data):\n",
    "    \"\"\"returns a dictionnary with the frequency of each value in the data given\"\"\"\n",
    "    return Counter(data)"
   ]
  },
  {
   "cell_type": "code",
   "execution_count": 21,
   "metadata": {},
   "outputs": [
    {
     "data": {
      "text/plain": [
       "[('', 122),\n",
       " ('Las Vegas, Nevada', 91),\n",
       " ('Las Vegas, NV', 37),\n",
       " ('Toronto, Ontario', 15),\n",
       " ('Denver, CO', 13),\n",
       " ('London, England', 8),\n",
       " ('Chicago, IL', 7),\n",
       " ('Anaheim, CA', 7),\n",
       " ('Newark, New Jersey', 7),\n",
       " ('Los Angeles, California', 6)]"
      ]
     },
     "execution_count": 21,
     "metadata": {},
     "output_type": "execute_result"
    }
   ],
   "source": [
    "# get the number of events that a city hosted\n",
    "number_events_per_city = get_distribution(locations)\n",
    "# sorting, first item in the list will be the city with the biggest number of events hosted\n",
    "number_events_per_city_sorted = sorted(number_events_per_city.items(), key=lambda x: x[1], reverse=True)\n",
    "# print top 5 by slicing the list sorted \n",
    "number_events_per_city_sorted[:10]"
   ]
  },
  {
   "cell_type": "markdown",
   "metadata": {},
   "source": [
    "## New data set, new questions\n",
    "> At present, we'll dive into more details with this data set that contains data about all fights from the beginning of the UFC\n",
    "\n",
    "> Let's explore that new data set quickly!"
   ]
  },
  {
   "cell_type": "code",
   "execution_count": 22,
   "metadata": {},
   "outputs": [
    {
     "data": {
      "text/plain": [
       "Index(['fighter1_last_name', 'fighter2_last_name', 'weight_class',\n",
       "       'fighter1reach', 'fighter2reach', 'fighter1height', 'fighter2height',\n",
       "       'is_title_fight', 'is_main_event', 'fighter1_rank', 'fighter2_rank',\n",
       "       'fighter1_is_winner', 'fighter2_is_winner', 'method', 'ending_time',\n",
       "       'ending_time.1', 'ending_round', 'submission', 'end_strike',\n",
       "       'end_target', 'end_position', 'is_fotn', 'event_date'],\n",
       "      dtype='object')"
      ]
     },
     "execution_count": 22,
     "metadata": {},
     "output_type": "execute_result"
    }
   ],
   "source": [
    "df_fights = pd.read_csv('../data/formated/fights.csv')\n",
    "df_fights.columns"
   ]
  },
  {
   "cell_type": "code",
   "execution_count": 23,
   "metadata": {},
   "outputs": [
    {
     "data": {
      "text/html": [
       "<div>\n",
       "<style scoped>\n",
       "    .dataframe tbody tr th:only-of-type {\n",
       "        vertical-align: middle;\n",
       "    }\n",
       "\n",
       "    .dataframe tbody tr th {\n",
       "        vertical-align: top;\n",
       "    }\n",
       "\n",
       "    .dataframe thead th {\n",
       "        text-align: right;\n",
       "    }\n",
       "</style>\n",
       "<table border=\"1\" class=\"dataframe\">\n",
       "  <thead>\n",
       "    <tr style=\"text-align: right;\">\n",
       "      <th></th>\n",
       "      <th>fighter1_last_name</th>\n",
       "      <th>fighter2_last_name</th>\n",
       "      <th>weight_class</th>\n",
       "      <th>fighter1reach</th>\n",
       "      <th>fighter2reach</th>\n",
       "      <th>fighter1height</th>\n",
       "      <th>fighter2height</th>\n",
       "      <th>is_title_fight</th>\n",
       "      <th>is_main_event</th>\n",
       "      <th>fighter1_rank</th>\n",
       "      <th>...</th>\n",
       "      <th>method</th>\n",
       "      <th>ending_time</th>\n",
       "      <th>ending_time.1</th>\n",
       "      <th>ending_round</th>\n",
       "      <th>submission</th>\n",
       "      <th>end_strike</th>\n",
       "      <th>end_target</th>\n",
       "      <th>end_position</th>\n",
       "      <th>is_fotn</th>\n",
       "      <th>event_date</th>\n",
       "    </tr>\n",
       "  </thead>\n",
       "  <tbody>\n",
       "    <tr>\n",
       "      <th>85</th>\n",
       "      <td>Roberson</td>\n",
       "      <td>Marshman</td>\n",
       "      <td>Welterweight</td>\n",
       "      <td>74.0</td>\n",
       "      <td>73.0</td>\n",
       "      <td>73.0</td>\n",
       "      <td>72.0</td>\n",
       "      <td>False</td>\n",
       "      <td>False</td>\n",
       "      <td>NaN</td>\n",
       "      <td>...</td>\n",
       "      <td>NaN</td>\n",
       "      <td>NaN</td>\n",
       "      <td>NaN</td>\n",
       "      <td>NaN</td>\n",
       "      <td>NaN</td>\n",
       "      <td>NaN</td>\n",
       "      <td>NaN</td>\n",
       "      <td>NaN</td>\n",
       "      <td>NaN</td>\n",
       "      <td>2018-11-03</td>\n",
       "    </tr>\n",
       "    <tr>\n",
       "      <th>86</th>\n",
       "      <td>Brunson</td>\n",
       "      <td>Adesanya</td>\n",
       "      <td>Middleweight</td>\n",
       "      <td>77.0</td>\n",
       "      <td>80.0</td>\n",
       "      <td>73.0</td>\n",
       "      <td>76.0</td>\n",
       "      <td>False</td>\n",
       "      <td>False</td>\n",
       "      <td>6</td>\n",
       "      <td>...</td>\n",
       "      <td>NaN</td>\n",
       "      <td>NaN</td>\n",
       "      <td>NaN</td>\n",
       "      <td>NaN</td>\n",
       "      <td>NaN</td>\n",
       "      <td>NaN</td>\n",
       "      <td>NaN</td>\n",
       "      <td>NaN</td>\n",
       "      <td>NaN</td>\n",
       "      <td>2018-11-03</td>\n",
       "    </tr>\n",
       "    <tr>\n",
       "      <th>87</th>\n",
       "      <td>Knight</td>\n",
       "      <td>Rinaldi</td>\n",
       "      <td>Lightweight</td>\n",
       "      <td>71.0</td>\n",
       "      <td>72.0</td>\n",
       "      <td>70.0</td>\n",
       "      <td>70.0</td>\n",
       "      <td>False</td>\n",
       "      <td>False</td>\n",
       "      <td>NaN</td>\n",
       "      <td>...</td>\n",
       "      <td>NaN</td>\n",
       "      <td>NaN</td>\n",
       "      <td>NaN</td>\n",
       "      <td>NaN</td>\n",
       "      <td>NaN</td>\n",
       "      <td>NaN</td>\n",
       "      <td>NaN</td>\n",
       "      <td>NaN</td>\n",
       "      <td>NaN</td>\n",
       "      <td>2018-11-03</td>\n",
       "    </tr>\n",
       "    <tr>\n",
       "      <th>88</th>\n",
       "      <td>Eubanks</td>\n",
       "      <td>Modafferi</td>\n",
       "      <td>Women_Flyweight</td>\n",
       "      <td>NaN</td>\n",
       "      <td>69.0</td>\n",
       "      <td>64.0</td>\n",
       "      <td>67.0</td>\n",
       "      <td>False</td>\n",
       "      <td>False</td>\n",
       "      <td>4</td>\n",
       "      <td>...</td>\n",
       "      <td>NaN</td>\n",
       "      <td>NaN</td>\n",
       "      <td>NaN</td>\n",
       "      <td>NaN</td>\n",
       "      <td>NaN</td>\n",
       "      <td>NaN</td>\n",
       "      <td>NaN</td>\n",
       "      <td>NaN</td>\n",
       "      <td>NaN</td>\n",
       "      <td>2018-11-03</td>\n",
       "    </tr>\n",
       "    <tr>\n",
       "      <th>89</th>\n",
       "      <td>Arce</td>\n",
       "      <td>Moraes</td>\n",
       "      <td>Featherweight</td>\n",
       "      <td>70.0</td>\n",
       "      <td>72.0</td>\n",
       "      <td>67.0</td>\n",
       "      <td>68.0</td>\n",
       "      <td>False</td>\n",
       "      <td>False</td>\n",
       "      <td>NaN</td>\n",
       "      <td>...</td>\n",
       "      <td>NaN</td>\n",
       "      <td>NaN</td>\n",
       "      <td>NaN</td>\n",
       "      <td>NaN</td>\n",
       "      <td>NaN</td>\n",
       "      <td>NaN</td>\n",
       "      <td>NaN</td>\n",
       "      <td>NaN</td>\n",
       "      <td>NaN</td>\n",
       "      <td>2018-11-03</td>\n",
       "    </tr>\n",
       "  </tbody>\n",
       "</table>\n",
       "<p>5 rows × 23 columns</p>\n",
       "</div>"
      ],
      "text/plain": [
       "   fighter1_last_name fighter2_last_name     weight_class  fighter1reach  \\\n",
       "85           Roberson           Marshman     Welterweight           74.0   \n",
       "86            Brunson           Adesanya     Middleweight           77.0   \n",
       "87             Knight            Rinaldi      Lightweight           71.0   \n",
       "88            Eubanks          Modafferi  Women_Flyweight            NaN   \n",
       "89              Arce              Moraes    Featherweight           70.0   \n",
       "\n",
       "    fighter2reach  fighter1height  fighter2height is_title_fight  \\\n",
       "85           73.0            73.0            72.0          False   \n",
       "86           80.0            73.0            76.0          False   \n",
       "87           72.0            70.0            70.0          False   \n",
       "88           69.0            64.0            67.0          False   \n",
       "89           72.0            67.0            68.0          False   \n",
       "\n",
       "   is_main_event fighter1_rank     ...     method ending_time ending_time.1  \\\n",
       "85         False           NaN     ...        NaN         NaN           NaN   \n",
       "86         False             6     ...        NaN         NaN           NaN   \n",
       "87         False           NaN     ...        NaN         NaN           NaN   \n",
       "88         False             4     ...        NaN         NaN           NaN   \n",
       "89         False           NaN     ...        NaN         NaN           NaN   \n",
       "\n",
       "   ending_round submission end_strike  end_target end_position is_fotn  \\\n",
       "85          NaN        NaN        NaN         NaN          NaN     NaN   \n",
       "86          NaN        NaN        NaN         NaN          NaN     NaN   \n",
       "87          NaN        NaN        NaN         NaN          NaN     NaN   \n",
       "88          NaN        NaN        NaN         NaN          NaN     NaN   \n",
       "89          NaN        NaN        NaN         NaN          NaN     NaN   \n",
       "\n",
       "    event_date  \n",
       "85  2018-11-03  \n",
       "86  2018-11-03  \n",
       "87  2018-11-03  \n",
       "88  2018-11-03  \n",
       "89  2018-11-03  \n",
       "\n",
       "[5 rows x 23 columns]"
      ]
     },
     "execution_count": 23,
     "metadata": {},
     "output_type": "execute_result"
    }
   ],
   "source": [
    "df_fights[85:90]"
   ]
  },
  {
   "cell_type": "markdown",
   "metadata": {},
   "source": [
    "> We have some interesting information about the fights like the way it ended and who is the winner."
   ]
  },
  {
   "cell_type": "markdown",
   "metadata": {},
   "source": [
    "### Questions\n",
    "> Time for questions!\n",
    "\n",
    "> What can we get from this? What about ...\n",
    "1. The distribution of the ways to finish a fight?\n",
    "2. The reach advantage. Is that truly an advantage?\n",
    "3. The stats on title fights, main events and regular fights.\n",
    "4. The way to get a Fight Of The Night (FOTN) bonus.\n",
    "5. The most common submssions in UFC. Did it evolve? Are there some trends across UFC history?"
   ]
  },
  {
   "cell_type": "code",
   "execution_count": 24,
   "metadata": {},
   "outputs": [
    {
     "data": {
      "text/plain": [
       "Counter({'Submission': 1006,\n",
       "         'Decision - Unanimous': 1601,\n",
       "         'Decision - Split': 459,\n",
       "         'KO/TKO': 1570,\n",
       "         'Decision - Majority': 51,\n",
       "         \"TKO - Doctor's Stoppage\": 69,\n",
       "         'DQ': 14,\n",
       "         'Overturned': 34,\n",
       "         'Could Not Continue': 12,\n",
       "         'Other': 2})"
      ]
     },
     "execution_count": 24,
     "metadata": {},
     "output_type": "execute_result"
    }
   ],
   "source": [
    "ways_to_finish = df_fights['method'].dropna()\n",
    "distribution_ways_to_finish = get_distribution(ways_to_finish)\n",
    "distribution_ways_to_finish"
   ]
  },
  {
   "cell_type": "markdown",
   "metadata": {},
   "source": [
    "> Ok, this is interesting. I guess *DQ* stands for *Disqualified*. But I don't know about you but I don't get the meaning of *Overturned* and *Could not continue* in that context.  Let's use our knowledge to understand the meaning of those words."
   ]
  },
  {
   "cell_type": "code",
   "execution_count": 25,
   "metadata": {},
   "outputs": [
    {
     "data": {
      "text/html": [
       "<div>\n",
       "<style scoped>\n",
       "    .dataframe tbody tr th:only-of-type {\n",
       "        vertical-align: middle;\n",
       "    }\n",
       "\n",
       "    .dataframe tbody tr th {\n",
       "        vertical-align: top;\n",
       "    }\n",
       "\n",
       "    .dataframe thead th {\n",
       "        text-align: right;\n",
       "    }\n",
       "</style>\n",
       "<table border=\"1\" class=\"dataframe\">\n",
       "  <thead>\n",
       "    <tr style=\"text-align: right;\">\n",
       "      <th></th>\n",
       "      <th>fighter1_last_name</th>\n",
       "      <th>fighter2_last_name</th>\n",
       "      <th>weight_class</th>\n",
       "      <th>fighter1reach</th>\n",
       "      <th>fighter2reach</th>\n",
       "      <th>fighter1height</th>\n",
       "      <th>fighter2height</th>\n",
       "      <th>is_title_fight</th>\n",
       "      <th>is_main_event</th>\n",
       "      <th>fighter1_rank</th>\n",
       "      <th>...</th>\n",
       "      <th>method</th>\n",
       "      <th>ending_time</th>\n",
       "      <th>ending_time.1</th>\n",
       "      <th>ending_round</th>\n",
       "      <th>submission</th>\n",
       "      <th>end_strike</th>\n",
       "      <th>end_target</th>\n",
       "      <th>end_position</th>\n",
       "      <th>is_fotn</th>\n",
       "      <th>event_date</th>\n",
       "    </tr>\n",
       "  </thead>\n",
       "  <tbody>\n",
       "    <tr>\n",
       "      <th>715</th>\n",
       "      <td>Cormier</td>\n",
       "      <td>Jones</td>\n",
       "      <td>Light_Heavyweight</td>\n",
       "      <td>72.0</td>\n",
       "      <td>84.0</td>\n",
       "      <td>71.0</td>\n",
       "      <td>76.0</td>\n",
       "      <td>True</td>\n",
       "      <td>True</td>\n",
       "      <td>C</td>\n",
       "      <td>...</td>\n",
       "      <td>Overturned</td>\n",
       "      <td>03:01</td>\n",
       "      <td>03:01</td>\n",
       "      <td>3.0</td>\n",
       "      <td>NaN</td>\n",
       "      <td>Kick</td>\n",
       "      <td>Head</td>\n",
       "      <td>At Distance</td>\n",
       "      <td>NaN</td>\n",
       "      <td>2017-07-29</td>\n",
       "    </tr>\n",
       "    <tr>\n",
       "      <th>762</th>\n",
       "      <td>Bessette</td>\n",
       "      <td>Holobaugh</td>\n",
       "      <td>Featherweight</td>\n",
       "      <td>NaN</td>\n",
       "      <td>NaN</td>\n",
       "      <td>70.0</td>\n",
       "      <td>71.0</td>\n",
       "      <td>False</td>\n",
       "      <td>True</td>\n",
       "      <td>NaN</td>\n",
       "      <td>...</td>\n",
       "      <td>Overturned</td>\n",
       "      <td>02:59</td>\n",
       "      <td>02:59</td>\n",
       "      <td>1.0</td>\n",
       "      <td>NaN</td>\n",
       "      <td>Punches</td>\n",
       "      <td>Head</td>\n",
       "      <td>At Distance</td>\n",
       "      <td>NaN</td>\n",
       "      <td>2017-07-11</td>\n",
       "    </tr>\n",
       "    <tr>\n",
       "      <th>911</th>\n",
       "      <td>Belfort</td>\n",
       "      <td>Gastelum</td>\n",
       "      <td>Middleweight</td>\n",
       "      <td>74.0</td>\n",
       "      <td>71.0</td>\n",
       "      <td>72.0</td>\n",
       "      <td>69.0</td>\n",
       "      <td>False</td>\n",
       "      <td>True</td>\n",
       "      <td>NaN</td>\n",
       "      <td>...</td>\n",
       "      <td>Overturned</td>\n",
       "      <td>03:52</td>\n",
       "      <td>03:52</td>\n",
       "      <td>1.0</td>\n",
       "      <td>NaN</td>\n",
       "      <td>Punch</td>\n",
       "      <td>Head</td>\n",
       "      <td>In Clinch</td>\n",
       "      <td>NaN</td>\n",
       "      <td>2017-03-11</td>\n",
       "    </tr>\n",
       "  </tbody>\n",
       "</table>\n",
       "<p>3 rows × 23 columns</p>\n",
       "</div>"
      ],
      "text/plain": [
       "    fighter1_last_name fighter2_last_name       weight_class  fighter1reach  \\\n",
       "715            Cormier              Jones  Light_Heavyweight           72.0   \n",
       "762           Bessette          Holobaugh      Featherweight            NaN   \n",
       "911            Belfort           Gastelum       Middleweight           74.0   \n",
       "\n",
       "     fighter2reach  fighter1height  fighter2height is_title_fight  \\\n",
       "715           84.0            71.0            76.0           True   \n",
       "762            NaN            70.0            71.0          False   \n",
       "911           71.0            72.0            69.0          False   \n",
       "\n",
       "    is_main_event fighter1_rank     ...          method ending_time  \\\n",
       "715          True             C     ...      Overturned       03:01   \n",
       "762          True           NaN     ...      Overturned       02:59   \n",
       "911          True           NaN     ...      Overturned       03:52   \n",
       "\n",
       "    ending_time.1 ending_round submission end_strike  end_target end_position  \\\n",
       "715         03:01          3.0        NaN       Kick        Head  At Distance   \n",
       "762         02:59          1.0        NaN    Punches        Head  At Distance   \n",
       "911         03:52          1.0        NaN      Punch        Head    In Clinch   \n",
       "\n",
       "    is_fotn  event_date  \n",
       "715     NaN  2017-07-29  \n",
       "762     NaN  2017-07-11  \n",
       "911     NaN  2017-03-11  \n",
       "\n",
       "[3 rows x 23 columns]"
      ]
     },
     "execution_count": 25,
     "metadata": {},
     "output_type": "execute_result"
    }
   ],
   "source": [
    "df_fights[df_fights['method'] == 'Overturned'].head(3)"
   ]
  },
  {
   "cell_type": "markdown",
   "metadata": {},
   "source": [
    "> Ok now I see. This label is given to a fight when at least one of the fighters has been tested positive to illicit products. That's what happened to Jon Jones for example. He won that fight against Daniel Cormier but has been tested positive afterwards.\n",
    "\n",
    "> What about *Could not continue*?"
   ]
  },
  {
   "cell_type": "code",
   "execution_count": 26,
   "metadata": {},
   "outputs": [
    {
     "data": {
      "text/html": [
       "<div>\n",
       "<style scoped>\n",
       "    .dataframe tbody tr th:only-of-type {\n",
       "        vertical-align: middle;\n",
       "    }\n",
       "\n",
       "    .dataframe tbody tr th {\n",
       "        vertical-align: top;\n",
       "    }\n",
       "\n",
       "    .dataframe thead th {\n",
       "        text-align: right;\n",
       "    }\n",
       "</style>\n",
       "<table border=\"1\" class=\"dataframe\">\n",
       "  <thead>\n",
       "    <tr style=\"text-align: right;\">\n",
       "      <th></th>\n",
       "      <th>fighter1_last_name</th>\n",
       "      <th>fighter2_last_name</th>\n",
       "      <th>weight_class</th>\n",
       "      <th>fighter1reach</th>\n",
       "      <th>fighter2reach</th>\n",
       "      <th>fighter1height</th>\n",
       "      <th>fighter2height</th>\n",
       "      <th>is_title_fight</th>\n",
       "      <th>is_main_event</th>\n",
       "      <th>fighter1_rank</th>\n",
       "      <th>...</th>\n",
       "      <th>method</th>\n",
       "      <th>ending_time</th>\n",
       "      <th>ending_time.1</th>\n",
       "      <th>ending_round</th>\n",
       "      <th>submission</th>\n",
       "      <th>end_strike</th>\n",
       "      <th>end_target</th>\n",
       "      <th>end_position</th>\n",
       "      <th>is_fotn</th>\n",
       "      <th>event_date</th>\n",
       "    </tr>\n",
       "  </thead>\n",
       "  <tbody>\n",
       "    <tr>\n",
       "      <th>854</th>\n",
       "      <td>Alvarez</td>\n",
       "      <td>Poirier</td>\n",
       "      <td>Lightweight</td>\n",
       "      <td>69.0</td>\n",
       "      <td>72.0</td>\n",
       "      <td>69.0</td>\n",
       "      <td>69.0</td>\n",
       "      <td>False</td>\n",
       "      <td>False</td>\n",
       "      <td>NaN</td>\n",
       "      <td>...</td>\n",
       "      <td>Could Not Continue</td>\n",
       "      <td>04:02</td>\n",
       "      <td>04:02</td>\n",
       "      <td>2.0</td>\n",
       "      <td>NaN</td>\n",
       "      <td>NaN</td>\n",
       "      <td>NaN</td>\n",
       "      <td>NaN</td>\n",
       "      <td>NaN</td>\n",
       "      <td>2017-05-13</td>\n",
       "    </tr>\n",
       "    <tr>\n",
       "      <th>1000</th>\n",
       "      <td>Oliveira</td>\n",
       "      <td>Means</td>\n",
       "      <td>Welterweight</td>\n",
       "      <td>76.0</td>\n",
       "      <td>75.0</td>\n",
       "      <td>71.0</td>\n",
       "      <td>74.0</td>\n",
       "      <td>False</td>\n",
       "      <td>False</td>\n",
       "      <td>13</td>\n",
       "      <td>...</td>\n",
       "      <td>Could Not Continue</td>\n",
       "      <td>03:33</td>\n",
       "      <td>03:33</td>\n",
       "      <td>1.0</td>\n",
       "      <td>NaN</td>\n",
       "      <td>NaN</td>\n",
       "      <td>NaN</td>\n",
       "      <td>NaN</td>\n",
       "      <td>NaN</td>\n",
       "      <td>2016-12-30</td>\n",
       "    </tr>\n",
       "  </tbody>\n",
       "</table>\n",
       "<p>2 rows × 23 columns</p>\n",
       "</div>"
      ],
      "text/plain": [
       "     fighter1_last_name fighter2_last_name  weight_class  fighter1reach  \\\n",
       "854             Alvarez            Poirier   Lightweight           69.0   \n",
       "1000           Oliveira              Means  Welterweight           76.0   \n",
       "\n",
       "      fighter2reach  fighter1height  fighter2height is_title_fight  \\\n",
       "854            72.0            69.0            69.0          False   \n",
       "1000           75.0            71.0            74.0          False   \n",
       "\n",
       "     is_main_event fighter1_rank     ...                  method ending_time  \\\n",
       "854          False           NaN     ...      Could Not Continue       04:02   \n",
       "1000         False            13     ...      Could Not Continue       03:33   \n",
       "\n",
       "     ending_time.1 ending_round submission end_strike  end_target  \\\n",
       "854          04:02          2.0        NaN        NaN         NaN   \n",
       "1000         03:33          1.0        NaN        NaN         NaN   \n",
       "\n",
       "     end_position is_fotn  event_date  \n",
       "854           NaN     NaN  2017-05-13  \n",
       "1000          NaN     NaN  2016-12-30  \n",
       "\n",
       "[2 rows x 23 columns]"
      ]
     },
     "execution_count": 26,
     "metadata": {},
     "output_type": "execute_result"
    }
   ],
   "source": [
    "df_fights[df_fights['method'] == 'Could Not Continue'].head(2)"
   ]
  },
  {
   "cell_type": "markdown",
   "metadata": {},
   "source": [
    "> Looks like another definition of **no contest**.\n",
    "\n",
    "> As far as I know, the two first fights in this list ended up in a **no contest** decision because of illegal shots. I remember those illegal knees from Alvarez. The rule is that you can't throw a knee to the head of your opponent if he has one hand on the ground. This is what Alvarez did.\n",
    "\n",
    "> To conclude, all those fights are not relevant for our analysis because there actually is no result.\n",
    "\n",
    "> Ok so now we can create the final dictionnary that contains the distribution of ways to finish.\n",
    "We can gather the number of split decisions with the number of unanimous and majority decisions."
   ]
  },
  {
   "cell_type": "code",
   "execution_count": 27,
   "metadata": {},
   "outputs": [],
   "source": [
    "# aggregate all kinds of decision into a single field named 'Decision'\n",
    "number_of_decisions = distribution_ways_to_finish['Decision - Unanimous'] \\\n",
    "                        + distribution_ways_to_finish['Decision - Split'] \\\n",
    "                        + distribution_ways_to_finish['Decision - Majority']\n",
    "distribution_ways_to_finish['Decision'] = number_of_decisions\n",
    "\n",
    "# remove data we don't want\n",
    "columns_to_remove = ['Decision - Unanimous', \n",
    "                     'Decision - Split', 'Decision - Majority', \n",
    "                     'DQ', 'Overturned', \n",
    "                     'Other', \n",
    "                     'Could Not Continue']\n",
    "for column in columns_to_remove:\n",
    "    distribution_ways_to_finish.pop(column)"
   ]
  },
  {
   "cell_type": "markdown",
   "metadata": {},
   "source": [
    "> Let's visualize that with a beautiful (at least I hope) pie chart!"
   ]
  },
  {
   "cell_type": "code",
   "execution_count": 28,
   "metadata": {},
   "outputs": [
    {
     "data": {
      "text/plain": [
       "Text(0.5, 1.0, 'Ways to finish a fight in UFC')"
      ]
     },
     "execution_count": 28,
     "metadata": {},
     "output_type": "execute_result"
    },
    {
     "data": {
      "image/png": "[encoded data removed]",
      "text/plain": [
       "<Figure size 432x288 with 1 Axes>"
      ]
     },
     "metadata": {},
     "output_type": "display_data"
    }
   ],
   "source": [
    "# data to plot, need to convert the dictionnary into two different lists\n",
    "labels = list(distribution_ways_to_finish.keys())\n",
    "sizes = list(distribution_ways_to_finish.values())\n",
    "\n",
    "# actual plot\n",
    "plt.pie(sizes, labels=labels, autopct='%1.1f%%', shadow=True, startangle=0)\n",
    " \n",
    "plt.axis('equal')\n",
    "plt.title('Ways to finish a fight in UFC')"
   ]
  },
  {
   "cell_type": "markdown",
   "metadata": {},
   "source": [
    "### Conclusion\n",
    "\n",
    "> From that we can conclude that if a fight has a winner and there is no disqualification afterwards, the most common way for a random fight to finish is to go to the descision (almost half of the fights). Then comes the KO/TKO (one third of the fights) and the submission (a bit more than one fifth).\n",
    "\n",
    "> No surprise here it would be interesting to compare the distribution from each year. Has it significantly changed? And secondly, it could be interesting to make the same study for each category and in function of the gender."
   ]
  },
  {
   "cell_type": "markdown",
   "metadata": {},
   "source": [
    "### Submissions\n",
    "> I've always been fascinated by submissions. Jiu-Jitsu is a must-have for every fighter. There are many types of submissions. Each fighter has his set of submissions and is ready to make use of it at any time to get the victory.\n",
    "\n",
    "> The question is what are the most common and the rarest submissions."
   ]
  },
  {
   "cell_type": "code",
   "execution_count": 29,
   "metadata": {},
   "outputs": [],
   "source": [
    "# skip NaN values because that means the fighter didn't win thanks to a submsiion\n",
    "submission_frequencies = get_distribution(df_fights['submission'].dropna())"
   ]
  },
  {
   "cell_type": "code",
   "execution_count": 30,
   "metadata": {},
   "outputs": [
    {
     "data": {
      "text/plain": [
       "Text(0.5, 1.0, 'Submission frequencies')"
      ]
     },
     "execution_count": 30,
     "metadata": {},
     "output_type": "execute_result"
    },
    {
     "data": {
      "image/png": "[encoded data removed]",
      "text/plain": [
       "<Figure size 432x288 with 1 Axes>"
      ]
     },
     "metadata": {
      "needs_background": "light"
     },
     "output_type": "display_data"
    }
   ],
   "source": [
    "# there are too many items (23) to do a pie chart so we'll go with an horizontal bar chart\n",
    "submission_names = list(submission_frequencies.keys())\n",
    "y_pos = np.arange(len(submission_names))\n",
    "frequencies = list(submission_frequencies.values())\n",
    " \n",
    "plt.barh(y_pos, frequencies, align='center', alpha=0.5)\n",
    "plt.yticks(y_pos, submission_names)\n",
    "plt.xlabel('Submission')\n",
    "plt.title('Submission frequencies')"
   ]
  },
  {
   "cell_type": "markdown",
   "metadata": {},
   "source": [
    "#### More insights!\n",
    "> This is definitely interesting to see that the rear naked choke is by far the most commonly way to finish a fight with a submission. Then come the guillotine and the armbar.\n",
    "\n",
    "> Submissions like the omoplata or the gi choke are very rare because they are very difficult to do.\n",
    "\n",
    "> What could be interesting is to know if there are some trends. Has the rear naked choke always be the most common submission? When did all submissions appear in the UFC?\n",
    "\n",
    "> Let's visualize that out with what we call a heatmap."
   ]
  },
  {
   "cell_type": "code",
   "execution_count": 31,
   "metadata": {},
   "outputs": [],
   "source": [
    "# because we'll have to deal with dates, it is useful to convert the dates (str format)\n",
    "# into datetime format\n",
    "df_fights['event_date'] = df_fights['event_date'].apply(pd.to_datetime)"
   ]
  },
  {
   "cell_type": "code",
   "execution_count": 32,
   "metadata": {},
   "outputs": [],
   "source": [
    "# first we need to know what is the date of the first event in the UFC\n",
    "# and the date of the last event announced\n",
    "firstdate = df_fights['event_date'][df_fights.shape[0]-1]\n",
    "lastdate = df_fights['event_date'][0]"
   ]
  },
  {
   "cell_type": "code",
   "execution_count": 33,
   "metadata": {},
   "outputs": [],
   "source": [
    "def get_all_fights_for_given_year(all_fights, year):\n",
    "    \"\"\"Given a year, returns a pandas dataframe that contains all fights for this year\"\"\"\n",
    "    return all_fights[all_fights['event_date'].dt.year == year]"
   ]
  },
  {
   "cell_type": "code",
   "execution_count": 34,
   "metadata": {},
   "outputs": [],
   "source": [
    "# The problem with the dictionnary we create is that it is the mirror of a year\n",
    "# and from a year to another, there are different submissions.\n",
    "# But we want a list with the frequency of each submission in the same order for each year\n",
    "# so we'll create this helper function\n",
    "def get_list_frequencies(list_submissions, submission_names_and_frequencies):\n",
    "    \"\"\"given the overall list of submissions (all submissions in UFC history), \n",
    "    returns a list with the frequencies of each submission\"\"\"\n",
    "    frequencies = [0 for i in range(len(list_submissions))]\n",
    "    for submission in list_submissions: # for each submission in the UFC history\n",
    "        # if the submission has been used this year\n",
    "        if submission in submission_names_and_frequencies: \n",
    "            # add the frequency at the specific index \n",
    "            frequencies[list_submissions.index(submission)] = \\\n",
    "                submission_names_and_frequencies[submission]   \n",
    "    return frequencies"
   ]
  },
  {
   "cell_type": "code",
   "execution_count": 35,
   "metadata": {},
   "outputs": [],
   "source": [
    "frequencies_by_year = []\n",
    "for year in range(firstdate.year, lastdate.year + 1):\n",
    "    fights_for_this_year = get_all_fights_for_given_year(df_fights, year)\n",
    "    frequencies = get_distribution(fights_for_this_year['submission'].dropna())\n",
    "    frequencies_by_year.append(get_list_frequencies(submission_names, frequencies))"
   ]
  },
  {
   "cell_type": "code",
   "execution_count": 36,
   "metadata": {},
   "outputs": [
    {
     "data": {
      "text/plain": [
       "Text(0.5, 1.0, 'Frequency of submissions (number/year)')"
      ]
     },
     "execution_count": 36,
     "metadata": {},
     "output_type": "execute_result"
    },
    {
     "data": {
      "image/png": "[encoded data removed]",
      "text/plain": [
       "<Figure size 432x288 with 1 Axes>"
      ]
     },
     "metadata": {
      "needs_background": "light"
     },
     "output_type": "display_data"
    }
   ],
   "source": [
    "years = [i for i in range(firstdate.year, lastdate.year + 1)]\n",
    "\n",
    "fig, ax = plt.subplots()\n",
    "im = ax.imshow(frequencies_by_year)\n",
    "\n",
    "# We want to show all ticks...\n",
    "ax.set_xticks(np.arange(len(submission_names)))\n",
    "ax.set_yticks(np.arange(len(years)))\n",
    "# ... and label them with the respective list entries\n",
    "ax.set_xticklabels(submission_names)\n",
    "ax.set_yticklabels(years)\n",
    "\n",
    "# Rotate the tick labels and set their alignment.\n",
    "plt.setp(ax.get_xticklabels(), rotation=45, ha=\"right\",\n",
    "         rotation_mode=\"anchor\")\n",
    "\n",
    "# Loop over data dimensions and create text annotations.\n",
    "for i in range(len(years)):\n",
    "    for j in range(len(submission_names)):\n",
    "        text = ax.text(j, i, frequencies_by_year[i][j],\n",
    "                       ha=\"center\", va=\"center\", color=\"w\")\n",
    "\n",
    "ax.set_title(\"Frequency of submissions (number/year)\")"
   ]
  },
  {
   "cell_type": "code",
   "execution_count": null,
   "metadata": {},
   "outputs": [],
   "source": []
  }
 ],
 "metadata": {
  "kernelspec": {
   "display_name": "Python 3",
   "language": "python",
   "name": "python3"
  },
  "language_info": {
   "codemirror_mode": {
    "name": "ipython",
    "version": 3
   },
   "file_extension": ".py",
   "mimetype": "text/x-python",
   "name": "python",
   "nbconvert_exporter": "python",
   "pygments_lexer": "ipython3",
   "version": "3.6.6"
  }
 },
 "nbformat": 4,
 "nbformat_minor": 2
}
