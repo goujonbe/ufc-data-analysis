{
 "cells": [
  {
   "cell_type": "markdown",
   "metadata": {},
   "source": [
    "## Data acquisition\n",
    "\n",
    "The aim of this notebook is given the list of all events, extract the fights for each of these events and thus build the list of all fights since the first one in the UFC history."
   ]
  },
  {
   "cell_type": "code",
   "execution_count": 6,
   "metadata": {},
   "outputs": [],
   "source": [
    "import requests\n",
    "import pandas as pd\n",
    "from pandas.io.json import json_normalize"
   ]
  },
  {
   "cell_type": "code",
   "execution_count": 8,
   "metadata": {},
   "outputs": [],
   "source": [
    "# get the list of all events from the beginning of the ufc\n",
    "events_from_api = requests.get('http://ufc-data-api.ufc.com/api/v3/us/events')\n",
    "df_events = pd.DataFrame(events_from_api.json(), columns=[\n",
    "    'id',\n",
    "    'base_title',\n",
    "    'subtitle',\n",
    "    'title_tag_line', \n",
    "    'short_description', \n",
    "    'event_date', \n",
    "    'event_status', \n",
    "    'location', \n",
    "    'arena'])\n",
    "df_events['event_date'] = pd.to_datetime(df_events['event_date'])"
   ]
  },
  {
   "cell_type": "code",
   "execution_count": 4,
   "metadata": {},
   "outputs": [],
   "source": [
    "def get_event_fights(event):\n",
    "    \"\"\"Make a get request to the UFC data API to get the fights of an event\"\"\"\n",
    "    response = requests.get('http://ufc-data-api.ufc.com/api/v3/us/events/{}/fights'.format(event))\n",
    "    return response.json()"
   ]
  },
  {
   "cell_type": "code",
   "execution_count": 9,
   "metadata": {},
   "outputs": [],
   "source": [
    "def get_all_fights(events):\n",
    "    \"\"\"for each event of the given dataframe of events, get all fights, returns the list of all fights since the beginning of the UFC\"\"\"\n",
    "    df_fights = pd.DataFrame()\n",
    "    for event in events.itertuples():\n",
    "        event_fights = json_normalize(get_event_fights(event.id))\n",
    "        event_fights['event_date'] = event.event_date\n",
    "        df_fights = df_fights.append(event_fights,sort=True)\n",
    "    return df_fights\n",
    "\n",
    "fights = get_all_fights(df_events)"
   ]
  },
  {
   "cell_type": "code",
   "execution_count": 10,
   "metadata": {},
   "outputs": [],
   "source": [
    "# properly the column names, to make the reading easier\n",
    "fights = fights.rename(index=str, \n",
    "                 columns={'fighter2_weight_class': 'weight_class',\n",
    "                  'result.Method' : 'method',\n",
    "                  'result.EndingTime' : 'ending_time',\n",
    "                  'result.EndingRound' : 'ending_round',\n",
    "                  'result.Submission' : 'submission',\n",
    "                  'result.EndStrike' : 'end_strike',\n",
    "                  'result.EndTarget' : 'end_target',\n",
    "                  'result.EndPosition' : 'end_position',\n",
    "                  'result.FightOfTheNight' : 'is_fotn'})"
   ]
  },
  {
   "cell_type": "code",
   "execution_count": 11,
   "metadata": {},
   "outputs": [],
   "source": [
    "# save the data in a csv file, to avoid this long process of getting all fights each time I wan to analyze the dataset\n",
    "fights.to_csv('../data/formated/fights.csv', \n",
    "          index=False, \n",
    "          columns=['fighter1_last_name',\n",
    "                   'fighter2_last_name',\n",
    "                   'weight_class', \n",
    "                   'fighter1reach', \n",
    "                   'fighter2reach', \n",
    "                   'fighter1height', \n",
    "                   'fighter2height',\n",
    "                   'is_title_fight',\n",
    "                   'is_main_event', \n",
    "                   'fighter1_rank', \n",
    "                   'fighter2_rank', \n",
    "                   'fighter1_is_winner', \n",
    "                   'fighter2_is_winner',\n",
    "                   'method',\n",
    "                   'ending_time',\n",
    "                   'ending_round',\n",
    "                   'submission',\n",
    "                   'end_strike',\n",
    "                   'end_target',\n",
    "                   'end_position',\n",
    "                   'is_fotn',\n",
    "                   'event_date'\n",
    "                  ])"
   ]
  }
 ],
 "metadata": {
  "kernelspec": {
   "display_name": "Python 3",
   "language": "python",
   "name": "python3"
  },
  "language_info": {
   "codemirror_mode": {
    "name": "ipython",
    "version": 3
   },
   "file_extension": ".py",
   "mimetype": "text/x-python",
   "name": "python",
   "nbconvert_exporter": "python",
   "pygments_lexer": "ipython3",
   "version": "3.6.6"
  }
 },
 "nbformat": 4,
 "nbformat_minor": 2
}
