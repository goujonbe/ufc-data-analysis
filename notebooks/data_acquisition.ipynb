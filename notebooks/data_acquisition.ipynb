{
 "cells": [
  {
   "cell_type": "code",
   "execution_count": 1,
   "metadata": {},
   "outputs": [],
   "source": [
    "import requests\n",
    "import pandas as pd\n",
    "import json\n",
    "from pandas.io.json import json_normalize"
   ]
  },
  {
   "cell_type": "code",
   "execution_count": 2,
   "metadata": {},
   "outputs": [],
   "source": [
    "# get the list of all events from the beginning of the ufc\n",
    "events_json_format = requests.get('http://ufc-data-api.ufc.com/api/v3/us/events').json()"
   ]
  },
  {
   "cell_type": "code",
   "execution_count": 3,
   "metadata": {},
   "outputs": [],
   "source": [
    "# save the content of that content (json format) to a file\n",
    "with open('../data/api/events.json', 'w') as json_file:\n",
    "    json.dump(events_json_format, json_file)"
   ]
  },
  {
   "cell_type": "code",
   "execution_count": 4,
   "metadata": {},
   "outputs": [],
   "source": [
    "# read the json file containing all the events since the first UFC event\n",
    "df_events = pd.read_json('../data/api/events.json')"
   ]
  },
  {
   "cell_type": "code",
   "execution_count": 5,
   "metadata": {},
   "outputs": [
    {
     "name": "stdout",
     "output_type": "stream",
     "text": [
      "200\n",
      "application/json; charset=utf-8\n"
     ]
    }
   ],
   "source": [
    "# make a simple request to get information about the API endpoint\n",
    "url = 'http://ufc-data-api.ufc.com/api/v3/us/events/642991/fights'\n",
    "response_test = requests.get(url)\n",
    "print(response_test.status_code)\n",
    "print(response_test.headers['Content-Type'])"
   ]
  },
  {
   "cell_type": "code",
   "execution_count": 6,
   "metadata": {},
   "outputs": [],
   "source": [
    "def get_event_fights(event):\n",
    "    \"\"\"Make a get request to the UFC data API to get the fights of an event\"\"\"\n",
    "    response = requests.get('http://ufc-data-api.ufc.com/api/v3/us/events/{}/fights'.format(event))\n",
    "    return response.json()"
   ]
  },
  {
   "cell_type": "code",
   "execution_count": null,
   "metadata": {},
   "outputs": [],
   "source": [
    "def get_all_fights(events):\n",
    "    df_fights = pd.DataFrame()\n",
    "    for event in events.itertuples():\n",
    "        event_fights = json_normalize(get_event_fights(event.id))\n",
    "        event_fights['event_date'] = event.event_date\n",
    "        df_fights = df_fights.append(event_fights,sort=True)\n",
    "    return df_fights\n",
    "\n",
    "fights = get_all_fights(df_events)"
   ]
  },
  {
   "cell_type": "code",
   "execution_count": null,
   "metadata": {},
   "outputs": [],
   "source": [
    "fights = fights.rename(index=str, \n",
    "                 columns={'fighter2_weight_class': 'weight_class',\n",
    "                  'result.Method' : 'method',\n",
    "                  'result.EndingTime' : 'ending_time',\n",
    "                  'result.EndingRound' : 'ending_round',\n",
    "                  'result.Submission' : 'submission',\n",
    "                  'result.EndStrike' : 'end_strike',\n",
    "                  'result.EndTarget' : 'end_target',\n",
    "                  'result.EndPosition' : 'end_position',\n",
    "                  'result.FightOfTheNight' : 'is_fotn'})"
   ]
  },
  {
   "cell_type": "code",
   "execution_count": null,
   "metadata": {},
   "outputs": [],
   "source": [
    "fights.to_csv('../data/formated/fights.csv', \n",
    "          index=False, \n",
    "          columns=['fighter1_last_name',\n",
    "                   'fighter2_last_name',\n",
    "                   'weight_class', \n",
    "                   'fighter1reach', \n",
    "                   'fighter2reach', \n",
    "                   'fighter1height', \n",
    "                   'fighter2height',\n",
    "                   'is_title_fight',\n",
    "                   'is_main_event', \n",
    "                   'fighter1_rank', \n",
    "                   'fighter2_rank', \n",
    "                   'fighter1_is_winner', \n",
    "                   'fighter2_is_winner',\n",
    "                   'method',\n",
    "                   'ending_time',\n",
    "                   'ending_round',\n",
    "                   'submission',\n",
    "                   'end_strike',\n",
    "                   'end_target',\n",
    "                   'end_position',\n",
    "                   'is_fotn',\n",
    "                   'event_date'\n",
    "                  ])"
   ]
  }
 ],
 "metadata": {
  "kernelspec": {
   "display_name": "Python 3",
   "language": "python",
   "name": "python3"
  },
  "language_info": {
   "codemirror_mode": {
    "name": "ipython",
    "version": 3
   },
   "file_extension": ".py",
   "mimetype": "text/x-python",
   "name": "python",
   "nbconvert_exporter": "python",
   "pygments_lexer": "ipython3",
   "version": "3.6.6"
  }
 },
 "nbformat": 4,
 "nbformat_minor": 2
}
